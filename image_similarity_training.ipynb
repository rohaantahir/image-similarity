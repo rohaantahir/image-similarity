{
  "nbformat": 4,
  "nbformat_minor": 0,
  "metadata": {
    "colab": {
      "name": "image_similarity_training.ipynb",
      "provenance": [],
      "collapsed_sections": []
    },
    "kernelspec": {
      "name": "python3",
      "display_name": "Python 3"
    },
    "language_info": {
      "name": "python"
    }
  },
  "cells": [
    {
      "cell_type": "code",
      "metadata": {
        "colab": {
          "base_uri": "https://localhost:8080/"
        },
        "id": "illVAKAGNKkA",
        "outputId": "03299f36-d9c8-4280-cf88-3f8b828c7841"
      },
      "source": [
        "%tensorflow_version 1.x"
      ],
      "execution_count": 1,
      "outputs": [
        {
          "output_type": "stream",
          "text": [
            "TensorFlow 1.x selected.\n"
          ],
          "name": "stdout"
        }
      ]
    },
    {
      "cell_type": "code",
      "metadata": {
        "colab": {
          "base_uri": "https://localhost:8080/"
        },
        "id": "5_irceR5Ncps",
        "outputId": "18d92621-c9f0-4343-fd39-c212a455bfc6"
      },
      "source": [
        "from google.colab import drive\n",
        "drive.mount('/content/drive')"
      ],
      "execution_count": 2,
      "outputs": [
        {
          "output_type": "stream",
          "text": [
            "Mounted at /content/drive\n"
          ],
          "name": "stdout"
        }
      ]
    },
    {
      "cell_type": "code",
      "metadata": {
        "colab": {
          "base_uri": "https://localhost:8080/"
        },
        "id": "d1ZveG3tNvoo",
        "outputId": "c174fc11-d346-44af-ff20-6e961714132b"
      },
      "source": [
        "import os\n",
        "import keras\n",
        "from keras.preprocessing import image\n",
        "from keras.applications.imagenet_utils import decode_predictions, preprocess_input\n",
        "from keras.models import Model\n",
        "from numpy import load\n",
        "from scipy.spatial import distance\n",
        "from numpy import asarray\n",
        "from numpy import save\n",
        "\n",
        "model = keras.applications.VGG16(weights='imagenet', include_top=True)\n",
        "#model.summary()\n",
        "\n",
        "import numpy as np\n",
        "import matplotlib.pyplot as plt\n",
        "from sklearn.decomposition import PCA\n",
        "\n",
        "\n",
        "def load_image(path):\n",
        "    img = image.load_img(path, target_size=model.input_shape[1:3])\n",
        "    x = image.img_to_array(img)\n",
        "    x = np.expand_dims(x, axis=0)\n",
        "    x = preprocess_input(x)\n",
        "    return img, x\n",
        "\n",
        "feat_extractor = Model(inputs=model.input, outputs=model.get_layer(\"fc2\").output)\n",
        "#feat_extractor.summary()\n",
        "images_path = '/content/drive/MyDrive/scraping'\n",
        "image_extensions = ['.jpg', '.png', '.jpeg']   # case-insensitive (upper/lower doesn't matter)\n",
        "max_num_images = 10000\n",
        "\n",
        "images = [os.path.join(dp, f) for dp, dn, filenames in os.walk(images_path) for f in filenames if os.path.splitext(f)[1].lower() in image_extensions]\n",
        "if max_num_images < len(images):\n",
        "    images = [images[i] for i in sorted(random.sample(xrange(len(images)), max_num_images))]\n",
        "\n",
        "print(\"keeping %d images to analyze\" % len(images))\n",
        "\n",
        "features = np.array(features)\n",
        "pca = PCA(n_components=300)\n",
        "pca.fit(features)\n",
        "pca_features = pca.transform(features)\n",
        "\n",
        "def get_closest_images(query_image_idx, num_results=7):\n",
        "    distances = [ distance.cosine(pca_features[query_image_idx], feat) for feat in pca_features ]\n",
        "    idx_closest = sorted(range(len(distances)), key=lambda k: distances[k])[1:num_results+1]\n",
        "    return idx_closest\n",
        "\n",
        "def get_concatenated_images(indexes, thumb_height):\n",
        "    thumbs = []\n",
        "    for idx in indexes:\n",
        "        img = image.load_img(images[idx])\n",
        "        img = img.resize((int(img.width * thumb_height / img.height), thumb_height))\n",
        "        thumbs.append(img)\n",
        "    concat_image = np.concatenate([np.asarray(t) for t in thumbs], axis=1)\n",
        "    return concat_image\n"
      ],
      "execution_count": 6,
      "outputs": [
        {
          "output_type": "stream",
          "text": [
            "keeping 29 images to analyze\n"
          ],
          "name": "stdout"
        }
      ]
    },
    {
      "cell_type": "code",
      "metadata": {
        "colab": {
          "base_uri": "https://localhost:8080/"
        },
        "id": "vFXonKa6N3Lb",
        "outputId": "877b0a19-f165-49c0-db19-dba5dc449615"
      },
      "source": [
        "import time\n",
        "tic = time.clock()\n",
        "features = []\n",
        "for i, image_path in enumerate(images):\n",
        "    if i % 500 == 0:\n",
        "        toc = time.clock()\n",
        "        elap = toc-tic;\n",
        "        print(\"analyzing image %d / %d. Time: %4.4f seconds.\" % (i, len(images),elap))\n",
        "        tic = time.clock()\n",
        "    img, x = load_image(image_path);\n",
        "    feat = feat_extractor.predict(x)[0]\n",
        "    features.append(feat)\n",
        "\n",
        "print('finished extracting features for %d images' % len(images))"
      ],
      "execution_count": 7,
      "outputs": [
        {
          "output_type": "stream",
          "text": [
            "/usr/local/lib/python3.7/dist-packages/ipykernel_launcher.py:2: DeprecationWarning: time.clock has been deprecated in Python 3.3 and will be removed from Python 3.8: use time.perf_counter or time.process_time instead\n",
            "  \n",
            "/usr/local/lib/python3.7/dist-packages/ipykernel_launcher.py:6: DeprecationWarning: time.clock has been deprecated in Python 3.3 and will be removed from Python 3.8: use time.perf_counter or time.process_time instead\n",
            "  \n",
            "/usr/local/lib/python3.7/dist-packages/ipykernel_launcher.py:9: DeprecationWarning: time.clock has been deprecated in Python 3.3 and will be removed from Python 3.8: use time.perf_counter or time.process_time instead\n",
            "  if __name__ == '__main__':\n"
          ],
          "name": "stderr"
        },
        {
          "output_type": "stream",
          "text": [
            "analyzing image 0 / 29. Time: 0.0008 seconds.\n",
            "finished extracting features for 29 images\n"
          ],
          "name": "stdout"
        }
      ]
    },
    {
      "cell_type": "code",
      "metadata": {
        "id": "d-4N5ZA_N7Np"
      },
      "source": [
        "save('/content/drive/MyDrive/scraping/data.npy', features)"
      ],
      "execution_count": 8,
      "outputs": []
    }
  ]
}